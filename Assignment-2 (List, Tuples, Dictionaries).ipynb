{
 "cells": [
  {
   "cell_type": "markdown",
   "id": "be75ffce",
   "metadata": {},
   "source": [
    "# Question 1\n",
    "#Fun with Lists and Tuples"
   ]
  },
  {
   "cell_type": "code",
   "execution_count": 16,
   "id": "26edee75",
   "metadata": {},
   "outputs": [
    {
     "data": {
      "text/plain": [
       "[(2, 1), (1, 2), (2, 3), (4, 4), (2, 5)]"
      ]
     },
     "execution_count": 16,
     "metadata": {},
     "output_type": "execute_result"
    }
   ],
   "source": [
    "#Write a Python program to get a list, sorted in increasing order by the last element in each tuple from a given list of\n",
    "#non-empty tuples\n",
    "\n",
    "List = [(2, 5), (1, 2), (4, 4), (2, 3), (2, 1)]\n",
    "def last_1(a):\n",
    "    last = a[-1]\n",
    "    return last\n",
    "\n",
    "def sort_last(list1):  \n",
    "   return sorted(list1, key=last_1)\n",
    "\n",
    "sort_last(List)"
   ]
  },
  {
   "cell_type": "markdown",
   "id": "38dddbde",
   "metadata": {},
   "source": [
    "# Question 2\n",
    "Make Your Own mini-Dictionary\n"
   ]
  },
  {
   "cell_type": "code",
   "execution_count": 17,
   "id": "db7ac101",
   "metadata": {},
   "outputs": [
    {
     "name": "stdout",
     "output_type": "stream",
     "text": [
      "{'a': 97, 'b': 98, 'c': 99, 'd': 100, 'e': 101, 'f': 102, 'g': 103, 'h': 104, 'i': 105, 'j': 106, 'k': 107, 'l': 108, 'm': 109, 'n': 110, 'o': 111, 'p': 112, 'q': 113, 'r': 114, 's': 115, 't': 116, 'u': 117, 'v': 118, 'w': 119, 'x': 120, 'y': 121, 'z': 122}\n"
     ]
    }
   ],
   "source": [
    "# Write a Python program to print a dictionary whose keys should be the alphabet from a-z and the value should be corresponding\n",
    "# ASCII values\n",
    "\n",
    "dict1 = {}\n",
    "for value in range(97,123):\n",
    "    dict1[chr(value)] = value\n",
    "\n",
    "print(dict1)"
   ]
  },
  {
   "cell_type": "code",
   "execution_count": null,
   "id": "4df50b38",
   "metadata": {},
   "outputs": [],
   "source": []
  }
 ],
 "metadata": {
  "kernelspec": {
   "display_name": "Python 3",
   "language": "python",
   "name": "python3"
  }
 },
 "nbformat": 4,
 "nbformat_minor": 5
}
